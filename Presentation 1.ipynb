{
 "cells": [
  {
   "cell_type": "markdown",
   "metadata": {},
   "source": [
    "#!/usr/bin/env python\n",
    "# Ski Decision Tool\n",
    "- The ski industry is a $3 billion industry that has a presence in countries all over the world\n",
    "\n",
    "- Additionally there are now conglomerates of passes, it would be helpful to have a tool that could help determine the best fit for the skiier/rider\n",
    "- Many factors can influence a skiiers experience, including weather, snow, terrain, apres-ski, number of lifts, elevation etc."
   ]
  },
  {
   "cell_type": "markdown",
   "metadata": {},
   "source": [
    "## Exploratory Data\n"
   ]
  },
  {
   "cell_type": "code",
   "execution_count": 8,
   "metadata": {
    "collapsed": false
   },
   "outputs": [
    {
     "name": "stdout",
     "output_type": "stream",
     "text": [
      "/bin/sh: -c: line 0: syntax error near unexpected token `('\r\n",
      "/bin/sh: -c: line 0: `[Image of Yaktocat](https://octodex.github.com/images/yaktocat.png)'\r\n"
     ]
    }
   ],
   "source": [
    "from IPython.display import Image\n",
    "Image(filename='Desktop/ProfessionalDevelopment/NeuralNetworks/Screen Shot 2017-10-27 at 10.12.08 AM.png')"
   ]
  },
  {
   "cell_type": "markdown",
   "metadata": {},
   "source": [
    "## Future Directions\n",
    "- Will be using a recommendation package in Python\n",
    "- Can we obtain reviews and run sentiment analysis\n",
    "- Could this be expanded to take in input for a group of people and make the best decisions for the group"
   ]
  },
  {
   "cell_type": "code",
   "execution_count": null,
   "metadata": {
    "collapsed": true
   },
   "outputs": [],
   "source": []
  }
 ],
 "metadata": {
  "kernelspec": {
   "display_name": "Python 3",
   "language": "python",
   "name": "python3"
  },
  "language_info": {
   "codemirror_mode": {
    "name": "ipython",
    "version": 3
   },
   "file_extension": ".py",
   "mimetype": "text/x-python",
   "name": "python",
   "nbconvert_exporter": "python",
   "pygments_lexer": "ipython3",
   "version": "3.6.0"
  }
 },
 "nbformat": 4,
 "nbformat_minor": 2
}
